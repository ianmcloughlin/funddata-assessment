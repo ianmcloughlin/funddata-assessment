{
 "cells": [
  {
   "cell_type": "code",
   "execution_count": null,
   "id": "ef2ef7ed",
   "metadata": {},
   "outputs": [],
   "source": [
    "# Start with e.\n",
    "twos = 'e'\n",
    "\n",
    "# Do the following 999 times.\n",
    "for i in range(1, 1000):\n",
    "    # Get the weights where the previous character is the last character in twos.\n",
    "    wt = twoghts[twos[-1]]\n",
    "    # Randomly pick the next character using those weights.\n",
    "    nextc = random.choices(chars, weights=weights, k=1)[0]\n",
    "    # Append the character to twos.\n",
    "    twos = twos + nextc"
   ]
  }
 ],
 "metadata": {
  "kernelspec": {
   "display_name": "Python 3 (ipykernel)",
   "language": "python",
   "name": "python3"
  },
  "language_info": {
   "codemirror_mode": {
    "name": "ipython",
    "version": 3
   },
   "file_extension": ".py",
   "mimetype": "text/x-python",
   "name": "python",
   "nbconvert_exporter": "python",
   "pygments_lexer": "ipython3",
   "version": "3.9.13"
  }
 },
 "nbformat": 4,
 "nbformat_minor": 5
}
